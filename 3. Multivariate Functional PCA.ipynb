{
 "cells": [
  {
   "cell_type": "markdown",
   "metadata": {},
   "source": [
    "\n",
    "# Multivariate Functional Principal Components Analysis\n",
    "\n",
    "This notebook shows how to perform an multivariate functional principal\n",
    "components analysis on an example dataset.\n"
   ]
  },
  {
   "cell_type": "code",
   "execution_count": null,
   "metadata": {
    "scrolled": true
   },
   "outputs": [],
   "source": [
    "# Author: Zara Waheed <zara95@bu.edu>\n",
    "# License: MIT\n",
    "\n",
    "import matplotlib.pyplot as plt\n",
    "import pandas as pd\n",
    "\n",
    "from FDApy.representation.functional_data import MultivariateFunctionalData\n",
    "from FDApy.preprocessing.dim_reduction.fpca import MFPCA\n",
    "from FDApy.visualization.plot import plot\n",
    "from FDApy.misc.loader import read_csv"
   ]
  },
  {
   "cell_type": "code",
   "execution_count": null,
   "metadata": {},
   "outputs": [],
   "source": [
    "def wf(x):\n",
    "    return '/Users/zarawaheed/Documents/BostonUniversity/MA679/Final Project/Data/' + x"
   ]
  },
  {
   "cell_type": "markdown",
   "metadata": {},
   "source": [
    "Load the data as DenseFunctionalData.\n",
    "\n"
   ]
  },
  {
   "cell_type": "code",
   "execution_count": null,
   "metadata": {},
   "outputs": [],
   "source": [
    "V_GRF_stance_N = read_csv(wf('V_GRF_stance_N.csv'))\n",
    "ML_GRF_stance_N = read_csv(wf('ML_GRF_stance_N.csv'))\n",
    "AP_GRF_stance_N = read_csv(wf('AP_GRF_stance_N.csv'))\n",
    "\n",
    "#ML_GRF_stance_N = ML_GRF_stance_N.reset_index()\n",
    "#AP_GRF_stance_N = AP_GRF_stance_N.reset_index()"
   ]
  },
  {
   "cell_type": "code",
   "execution_count": null,
   "metadata": {},
   "outputs": [],
   "source": [
    "# Create multivariate functional data\n",
    "\n",
    "GRF = MultivariateFunctionalData([ML_GRF_stance_N, AP_GRF_stance_N, V_GRF_stance_N])"
   ]
  },
  {
   "cell_type": "markdown",
   "metadata": {},
   "source": [
    "Perform a multivariate functional PCA and explore the results.\n",
    "\n"
   ]
  },
  {
   "cell_type": "code",
   "execution_count": null,
   "metadata": {
    "scrolled": true
   },
   "outputs": [],
   "source": [
    "# Perform multivariate FPCA\n",
    "\n",
    "n = 8\n",
    "mfpca = MFPCA(n_components = [n, n, n])\n",
    "# n_components is number of components to keep for each functions in data\n",
    "\n",
    "mfpca.fit(GRF, method='NumInt')\n",
    "# other method = PACE \n",
    "\n",
    "# Plot the results of the FPCA (eigenfunctions)\n",
    "fig, (ax1, ax2, ax3) = plt.subplots(3, 1, figsize=(8,6))\n",
    "_ = plot(mfpca.basis[0], ax=ax1)\n",
    "_.set_ylabel('ML_GRF')\n",
    "_ = plot(mfpca.basis[1], ax=ax2)\n",
    "_.set_ylabel('AP_GRF')\n",
    "_ = plot(mfpca.basis[2], ax=ax3)\n",
    "_.set_ylabel('V_GRF')\n",
    "_.set_xlabel('Time')\n",
    "ax1.set_title('MFPCA plot with 8 Principal Components', fontstyle='italic')\n",
    "\n",
    "fig.savefig('/Users/zarawaheed/Documents/BostonUniversity/MA679/Final Project/Data/Processed/MFPCA.png', dpi=300)"
   ]
  },
  {
   "cell_type": "code",
   "execution_count": null,
   "metadata": {},
   "outputs": [],
   "source": [
    "# mfpca.basis"
   ]
  },
  {
   "cell_type": "markdown",
   "metadata": {},
   "source": [
    "Compute the scores of the dailyTemp data into the eigenfunctions basis using\n",
    "numerical integration.\n",
    "\n"
   ]
  },
  {
   "cell_type": "code",
   "execution_count": null,
   "metadata": {},
   "outputs": [],
   "source": [
    "# Compute the scores\n",
    "GRF_proj = mfpca.transform(GRF)\n",
    "\n",
    "# Plot the projection of the data onto the eigenfunctions\n",
    "fig = pd.plotting.scatter_matrix(pd.DataFrame(GRF_proj), diagonal='kde', figsize=(15, 15))\n",
    "plt.savefig('/Users/zarawaheed/Documents/BostonUniversity/MA679/Final Project/Data/Processed/MFPCA_scatter_matrix.png', dpi=300)"
   ]
  },
  {
   "cell_type": "markdown",
   "metadata": {},
   "source": [
    "Then, we can test if the reconstruction of the data is good.\n",
    "\n"
   ]
  },
  {
   "cell_type": "code",
   "execution_count": null,
   "metadata": {},
   "outputs": [],
   "source": [
    "# Test if the reconstruction is good.\n",
    "GRF_reconst = mfpca.inverse_transform(GRF_proj)\n",
    "\n",
    "# Plot the reconstructed curves\n",
    "fig, (ax1, ax2, ax3) = plt.subplots(3, 1, figsize = (15,12))\n",
    "_ = plot(GRF_reconst[0], ax=ax1)\n",
    "_.set_ylabel('GRF_ML')\n",
    "_ = plot(GRF_reconst[1], ax=ax2)\n",
    "_.set_ylabel('GRF_AP')\n",
    "_ = plot(GRF_reconst[2], ax=ax3)\n",
    "_.set_ylabel('GRF_V')\n",
    "_.set_xlabel('Time')\n",
    "ax1.set_title('MFPCA Reconstructed Data with 8 Principal Components', fontstyle='italic')\n",
    "fig.savefig('/Users/zarawaheed/Documents/BostonUniversity/MA679/Final Project/Data/Processed/MFPCA_reconstructed_plot.png', dpi=300)"
   ]
  },
  {
   "cell_type": "markdown",
   "metadata": {},
   "source": [
    "### Calculate MSE"
   ]
  },
  {
   "cell_type": "code",
   "execution_count": null,
   "metadata": {},
   "outputs": [],
   "source": [
    "# Define function for MSE\n",
    "\n",
    "def mse(array1,array2):\n",
    "    diff = array1 - array2\n",
    "    sqdiff = diff**2\n",
    "    n = len(sqdiff)\n",
    "    \n",
    "    sum_sqdiff = sum(sqdiff)\n",
    "    return sum_sqdiff/n"
   ]
  },
  {
   "cell_type": "code",
   "execution_count": null,
   "metadata": {},
   "outputs": [],
   "source": [
    "# define number on components\n",
    "\n",
    "n = 2"
   ]
  },
  {
   "cell_type": "code",
   "execution_count": null,
   "metadata": {},
   "outputs": [],
   "source": [
    "# run mfpca\n",
    "\n",
    "mfpca = MFPCA(n_components = [n, n, n])\n",
    "mfpca.fit(GRF, method='NumInt')\n",
    "GRF_reconst = mfpca.inverse_transform(mfpca.transform(GRF))"
   ]
  },
  {
   "cell_type": "code",
   "execution_count": null,
   "metadata": {},
   "outputs": [],
   "source": [
    "# Create datasets\n",
    "\n",
    "V_GRF_reconst = pd.DataFrame(GRF_reconst[2].values)\n",
    "V_GRF_reconst_array = V_GRF_reconst.values.flatten()\n",
    "\n",
    "V_GRF_stance_N_df = pd.DataFrame(V_GRF_stance_N.values)\n",
    "V_GRF_stance_N_df_array = V_GRF_stance_N_df.values.flatten()\n",
    "\n",
    "AP_GRF_reconst = pd.DataFrame(GRF_reconst[1].values)\n",
    "AP_GRF_reconst_array = AP_GRF_reconst.values.flatten()\n",
    "\n",
    "AP_GRF_stance_N_df = pd.DataFrame(AP_GRF_stance_N.values)\n",
    "AP_GRF_stance_N_df_array = AP_GRF_stance_N_df.values.flatten()\n",
    "\n",
    "ML_GRF_reconst = pd.DataFrame(GRF_reconst[0].values)\n",
    "ML_GRF_reconst_array = ML_GRF_reconst.values.flatten()\n",
    "\n",
    "ML_GRF_stance_N_df = pd.DataFrame(ML_GRF_stance_N.values)\n",
    "ML_GRF_stance_N_df_array = ML_GRF_stance_N_df.values.flatten()"
   ]
  },
  {
   "cell_type": "code",
   "execution_count": null,
   "metadata": {},
   "outputs": [],
   "source": [
    "# Calculate mean\n",
    "\n",
    "V_GRF_mean = str(round(mse(V_GRF_stance_N_df_array, V_GRF_reconst_array), 2))\n",
    "AP_GRF_mean = str(round(mse(AP_GRF_stance_N_df_array, AP_GRF_reconst_array), 2))\n",
    "ML_GRF_mean = str(round(mse(ML_GRF_stance_N_df_array, ML_GRF_reconst_array), 2))"
   ]
  },
  {
   "cell_type": "code",
   "execution_count": null,
   "metadata": {},
   "outputs": [],
   "source": [
    "# Create initial dataset\n",
    "\n",
    "new_ML = pd.DataFrame({'Components' : [n],\n",
    "                          'MSE_ML': [ML_GRF_mean]\n",
    "                         })\n",
    "\n",
    "new_AP = pd.DataFrame({'Components' : [n],\n",
    "                          'MSE_AP': [AP_GRF_mean]\n",
    "                         })\n",
    "\n",
    "new_V = pd.DataFrame({'Components' : [n],\n",
    "                          'MSE_V': [V_GRF_mean]\n",
    "                         })\n",
    "\n",
    "mse_ML = new_ML\n",
    "mse_AP = new_AP\n",
    "mse_V = new_V"
   ]
  },
  {
   "cell_type": "code",
   "execution_count": null,
   "metadata": {},
   "outputs": [],
   "source": [
    "# Create a loop that runs the model, creates reconstructed datasets, calculates mse and adds it to our dataset\n",
    "\n",
    "for i in range(4, 22, 2):\n",
    "    \n",
    "    # fit the model and create reconstructed dataset\n",
    "    mfpca = MFPCA(n_components = [i, i, i])\n",
    "    mfpca.fit(GRF, method='NumInt')\n",
    "    GRF_reconst = mfpca.inverse_transform(mfpca.transform(GRF))\n",
    "\n",
    "    # create ML_GRF reconstructed and original data array\n",
    "    ML_GRF_reconst = pd.DataFrame(GRF_reconst[0].values)\n",
    "    ML_GRF_reconst_array = ML_GRF_reconst.values.flatten()\n",
    "\n",
    "    ML_GRF_stance_N_df = pd.DataFrame(ML_GRF_stance_N.values)\n",
    "    ML_GRF_stance_N_df_array = ML_GRF_stance_N_df.values.flatten()\n",
    "\n",
    "    # create AP_GRF reconstructed and original data array\n",
    "    AP_GRF_reconst = pd.DataFrame(GRF_reconst[1].values)\n",
    "    AP_GRF_reconst_array = AP_GRF_reconst.values.flatten()\n",
    "\n",
    "    AP_GRF_stance_N_df = pd.DataFrame(AP_GRF_stance_N.values)\n",
    "    AP_GRF_stance_N_df_array = AP_GRF_stance_N_df.values.flatten()\n",
    "    \n",
    "    # create V_GRF reconstructed and original data array\n",
    "    V_GRF_reconst = pd.DataFrame(GRF_reconst[2].values)\n",
    "    V_GRF_reconst_array = V_GRF_reconst.values.flatten()\n",
    "\n",
    "    V_GRF_stance_N_df = pd.DataFrame(V_GRF_stance_N.values)\n",
    "    V_GRF_stance_N_df_array = V_GRF_stance_N_df.values.flatten()\n",
    "    \n",
    "\n",
    "    # Calculate mse for each GRF\n",
    "    \n",
    "    ML_GRF_mean = str(round(mse(ML_GRF_stance_N_df_array, ML_GRF_reconst_array), 2))\n",
    "    AP_GRF_mean = str(round(mse(AP_GRF_stance_N_df_array, AP_GRF_reconst_array), 2))\n",
    "    V_GRF_mean = str(round(mse(V_GRF_stance_N_df_array, V_GRF_reconst_array), 2))\n",
    "    \n",
    "    # Store the values in the dataframe\n",
    "    \n",
    "    new_ML = pd.DataFrame({'Components' : [i],\n",
    "                          'MSE_ML': [ML_GRF_mean]\n",
    "                         })\n",
    "\n",
    "    new_AP = pd.DataFrame({'Components' : [i],\n",
    "                          'MSE_AP': [AP_GRF_mean]\n",
    "                         })\n",
    "\n",
    "    new_V = pd.DataFrame({'Components' : [i],\n",
    "                          'MSE_V': [V_GRF_mean]\n",
    "                         })\n",
    "    \n",
    "    mse_ML = pd.concat([mse_ML, new_ML])\n",
    "    mse_AP = pd.concat([mse_AP, new_AP])\n",
    "    mse_V = pd.concat([mse_V, new_V])"
   ]
  },
  {
   "cell_type": "code",
   "execution_count": null,
   "metadata": {},
   "outputs": [],
   "source": [
    "# Save the dataset\n",
    "\n",
    "result = pd.merge((pd.merge(mse_ML, mse_AP, on=\"Components\", how='outer')), mse_V, on=\"Components\", how='outer')\n",
    "result.to_csv('/Users/zarawaheed/Documents/BostonUniversity/MA679/Final Project/Data/Processed/MFPCA_mse.csv')"
   ]
  }
 ],
 "metadata": {
  "kernelspec": {
   "display_name": "Python 3",
   "language": "python",
   "name": "python3"
  },
  "language_info": {
   "codemirror_mode": {
    "name": "ipython",
    "version": 3
   },
   "file_extension": ".py",
   "mimetype": "text/x-python",
   "name": "python",
   "nbconvert_exporter": "python",
   "pygments_lexer": "ipython3",
   "version": "3.9.5"
  }
 },
 "nbformat": 4,
 "nbformat_minor": 1
}
